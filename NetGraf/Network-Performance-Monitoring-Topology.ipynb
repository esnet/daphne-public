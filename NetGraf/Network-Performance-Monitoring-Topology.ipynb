{
 "cells": [
  {
   "cell_type": "markdown",
   "metadata": {},
   "source": [
    "\n",
    "# Setting up NetGraf on Chameleon Node set-up for One Dashboard Setup for End-to-End Performance Monitoring\n",
    "\n",
    "We develop monitoring dashbaord, using Grafana, using our Chameleon cloud set-up. We will start by (1) setting up nodes on Chicago site and Texas sites, then (2) install open-source network monitoring tools to allow a one dashboard perfomance monitoring for all nodes.\n",
    "\n"
   ]
  },
  {
   "cell_type": "markdown",
   "metadata": {},
   "source": [
    "###  Setup NetPerf's Enviroment "
   ]
  },
  {
   "cell_type": "code",
   "execution_count": 12,
   "metadata": {},
   "outputs": [],
   "source": [
    "# Set up user's project (user's can be multiple ones, so there is no default currently)\n",
    "#Proj_name"
    "export OS_PROJECT_NAME='Proj_name'",
     "\n",
    "# Set chameleon keypair name and path to the private ssh key\n",
    "export SSH_KEY_NAME=${USERNAME}-uc-key\n",
    "export SSH_PRIVATE_KEY=${HOME}/work/bashir-chameleon-jupyter\n",
    "\n",
    "export NETWORK_SUBNET=\"192.168.100.0/24\"\n",
    "export UC_ALLOCATION_START=\"192.168.100.10\"\n",
    "export UC_ALLOCATION_END=\"192.168.100.19\"\n",
    "export TACC_ALLOCATION_START=\"192.168.100.20\"\n",
    "export TACC_ALLOCATION_END=\"192.168.100.29\"\n",
    "\n",
    "export RESOURCE_PREFIX=\"$USER-netperf-$(date +%b%d)\"\n",
    "\n",
    "#export GENI_PEM_FILE=\"~/work/geni-bmohamme.pem\""
   ]
  },
  {
   "cell_type": "markdown",
   "metadata": {},
   "source": [
    "### Set NetPerf Variables \n",
    "  - `OS_PROJECT_NAME`: The name of the project you want to use.\n",
    "  - `UC_RESERVATION`: Reservation ID at UC.\n",
    "  - `TACC_RESERVATION`: Reservation ID at TACC.\n",
    "  - `SSH_KEY_NAME`: SSH key name as registered in Chameleon\n",
    "  - `SSH_PRIVATE_KEY`: Path to the corresponding private key in your Jupyter container.\n",
    "  - `NETWORK_SUBNET`: Private IP subnet that will span both Chameleon sites.\n",
    "  - `UC_ALLOCATION_START`: The start of the IP range assigned at the UC site.\n",
    "  - `UC_ALLOCATION_END`: The end of the IP range assigned at the UC site.\n",
    "  - `TACC_ALLOCATION_START`: The start of the IP range assigned at the TACC site.\n",
    "  - `TACC_ALLOCATION_END`: The start of the IP range assigned at the TACC site.\n",
    "  - `RESOURCE_PREFIX`: A begin string used to idenify resources provision. This includes your user ID so that your resources can be distinguised from those belonging to other tutorial particpants.\n",
    "  - `GENI_PEM_FILE`: The path to your GENI certificate file in you Jupyter container.\n",
    "  - `UC_DIRECTSTITCH_VLAN`: The VLAN using to attach to the DirectStitch port at UC.\n",
    "  - `TACC_DIRECTSTITCH_VLAN`: The VLAN using to attach to the DirectStitch port at TACC."
   ]
  },
  {
   "cell_type": "code",
   "execution_count": 13,
   "metadata": {},
   "outputs": [],
   "source": [
    "UC_RESERVATION_NAME=${RESOURCE_PREFIX}\"-UC\"\n",
    "\n",
    "# Set the names for the network, subnet, router, and switch. \n",
    "UC_NETWORK_NAME=${RESOURCE_PREFIX}\"-Network-UC\"\n",
    "UC_SUBNET_NAME=${RESOURCE_PREFIX}\"-Subnet-UC\"\n",
    "UC_ROUTER_NAME=${RESOURCE_PREFIX}\"-Router-UC\""
   ]
  },
  {
   "cell_type": "markdown",
   "metadata": {},
   "source": [
    "### Creating a NetPerf Network on the UC Chameleon Site"
   ]
  },
  {
   "cell_type": "code",
   "execution_count": 14,
   "metadata": {},
   "outputs": [
    {
     "name": "stdout",
     "output_type": "stream",
     "text": [
      "Creating network\n",
      "Matches: ('min=1,max=3', 'resource_properties', '[\"=\", \"$node_type\", \"compute_haswell\"]')\n",
      "Matches: ('min=1', 'max', '3')\n",
      "Matches: (None, 'min', '1')\n",
      "Matches: ('resource_type=virtual:floatingip,network_id=44b38c44-2a42-4b6d-b129-6c8f1b2a1375', 'amount', '1')\n",
      "Matches: ('resource_type=virtual:floatingip', 'network_id', '44b38c44-2a42-4b6d-b129-6c8f1b2a1375')\n",
      "Matches: (None, 'resource_type', 'virtual:floatingip')\n",
      "Matches: ('resource_type=network,network_name=bmohd1-netperf-Jun23-Network-UC', 'resource_properties', '[\"==\",\"$physical_network\",\"exogeni\"]')\n",
      "Matches: ('resource_type=network', 'network_name', 'bmohd1-netperf-Jun23-Network-UC')\n",
      "Matches: (None, 'resource_type', 'network')\n",
      "Created a new lease:\n",
      "+--------------+----------------------------------------------------------------------------+\n",
      "| Field        | Value                                                                      |\n",
      "+--------------+----------------------------------------------------------------------------+\n",
      "| created_at   | 2020-06-23 18:26:33                                                        |\n",
      "| degraded     | False                                                                      |\n",
      "| end_date     | 2020-06-28T18:26:00.000000                                                 |\n",
      "| events       | {                                                                          |\n",
      "|              |     \"status\": \"UNDONE\",                                                    |\n",
      "|              |     \"lease_id\": \"ecae79fa-d9db-4c81-ab2e-c72bac47262b\",                    |\n",
      "|              |     \"event_type\": \"end_lease\",                                             |\n",
      "|              |     \"created_at\": \"2020-06-23 18:26:41\",                                   |\n",
      "|              |     \"updated_at\": null,                                                    |\n",
      "|              |     \"time\": \"2020-06-28T18:26:00.000000\",                                  |\n",
      "|              |     \"id\": \"14327c8c-60ac-43c9-b69d-016ea562254c\"                           |\n",
      "|              | }                                                                          |\n",
      "|              | {                                                                          |\n",
      "|              |     \"status\": \"UNDONE\",                                                    |\n",
      "|              |     \"lease_id\": \"ecae79fa-d9db-4c81-ab2e-c72bac47262b\",                    |\n",
      "|              |     \"event_type\": \"before_end_lease\",                                      |\n",
      "|              |     \"created_at\": \"2020-06-23 18:26:41\",                                   |\n",
      "|              |     \"updated_at\": null,                                                    |\n",
      "|              |     \"time\": \"2020-06-26T18:26:00.000000\",                                  |\n",
      "|              |     \"id\": \"bd90ae3e-9049-49ae-947b-3f6c8c42ab10\"                           |\n",
      "|              | }                                                                          |\n",
      "|              | {                                                                          |\n",
      "|              |     \"status\": \"UNDONE\",                                                    |\n",
      "|              |     \"lease_id\": \"ecae79fa-d9db-4c81-ab2e-c72bac47262b\",                    |\n",
      "|              |     \"event_type\": \"start_lease\",                                           |\n",
      "|              |     \"created_at\": \"2020-06-23 18:26:41\",                                   |\n",
      "|              |     \"updated_at\": null,                                                    |\n",
      "|              |     \"time\": \"2020-06-23T18:28:00.000000\",                                  |\n",
      "|              |     \"id\": \"eb29bf84-f8e9-4f95-9363-aa37b2f10fc5\"                           |\n",
      "|              | }                                                                          |\n",
      "| id           | ecae79fa-d9db-4c81-ab2e-c72bac47262b                                       |\n",
      "| name         | bmohd1-netperf-Jun23-UC                                                    |\n",
      "| project_id   | 4527d3d04ada41f5957f87bc334751a3                                           |\n",
      "| reservations | {                                                                          |\n",
      "|              |     \"status\": \"pending\",                                                   |\n",
      "|              |     \"lease_id\": \"ecae79fa-d9db-4c81-ab2e-c72bac47262b\",                    |\n",
      "|              |     \"resource_id\": \"38c980a9-f163-4328-91de-082651468352\",                 |\n",
      "|              |     \"created_at\": \"2020-06-23 18:26:39\",                                   |\n",
      "|              |     \"updated_at\": \"2020-06-23 18:26:41\",                                   |\n",
      "|              |     \"missing_resources\": false,                                            |\n",
      "|              |     \"id\": \"08c4f45f-089c-4c40-b654-3068d16f921b\",                          |\n",
      "|              |     \"resource_type\": \"network\",                                            |\n",
      "|              |     \"resources_changed\": false                                             |\n",
      "|              | }                                                                          |\n",
      "|              | {                                                                          |\n",
      "|              |     \"status\": \"pending\",                                                   |\n",
      "|              |     \"before_end\": \"default\",                                               |\n",
      "|              |     \"lease_id\": \"ecae79fa-d9db-4c81-ab2e-c72bac47262b\",                    |\n",
      "|              |     \"resource_id\": \"b3152bf4-4597-4f14-9462-aa36785c7749\",                 |\n",
      "|              |     \"max\": 3,                                                              |\n",
      "|              |     \"created_at\": \"2020-06-23 18:26:33\",                                   |\n",
      "|              |     \"min\": 1,                                                              |\n",
      "|              |     \"updated_at\": \"2020-06-23 18:26:38\",                                   |\n",
      "|              |     \"missing_resources\": false,                                            |\n",
      "|              |     \"hypervisor_properties\": \"\",                                           |\n",
      "|              |     \"on_start\": \"default\",                                                 |\n",
      "|              |     \"resource_properties\": \"[\\\"=\\\", \\\"$node_type\\\", \\\"compute_haswell\\\"]\", |\n",
      "|              |     \"id\": \"7cf0e8ea-7a03-43f4-8a0f-f21a4bf05182\",                          |\n",
      "|              |     \"resource_type\": \"physical:host\",                                      |\n",
      "|              |     \"resources_changed\": false                                             |\n",
      "|              | }                                                                          |\n",
      "|              | {                                                                          |\n",
      "|              |     \"status\": \"pending\",                                                   |\n",
      "|              |     \"lease_id\": \"ecae79fa-d9db-4c81-ab2e-c72bac47262b\",                    |\n",
      "|              |     \"resource_id\": \"29abd090-c191-4e02-a2fc-a746adf6d08d\",                 |\n",
      "|              |     \"network_id\": \"44b38c44-2a42-4b6d-b129-6c8f1b2a1375\",                  |\n",
      "|              |     \"created_at\": \"2020-06-23 18:26:38\",                                   |\n",
      "|              |     \"updated_at\": \"2020-06-23 18:26:39\",                                   |\n",
      "|              |     \"required_floatingips\": [],                                            |\n",
      "|              |     \"missing_resources\": false,                                            |\n",
      "|              |     \"amount\": 1,                                                           |\n",
      "|              |     \"id\": \"d5942987-19fd-4e47-b2a1-cd43710f0111\",                          |\n",
      "|              |     \"resource_type\": \"virtual:floatingip\",                                 |\n",
      "|              |     \"resources_changed\": false                                             |\n",
      "|              | }                                                                          |\n",
      "| start_date   | 2020-06-23T18:28:00.000000                                                 |\n",
      "| status       | PENDING                                                                    |\n",
      "| trust_id     | 9a925d3fb77a403891669e0040acafb1                                           |\n",
      "| updated_at   | 2020-06-23 18:26:41                                                        |\n",
      "| user_id      | e325e79f2bc74500840cf8060bd9c310                                           |\n",
      "+--------------+----------------------------------------------------------------------------+\n",
      "UC_RESERVATION ecae79fa-d9db-4c81-ab2e-c72bac47262b\n",
      "UC_NODE_RESERVATION 7cf0e8ea-7a03-43f4-8a0f-f21a4bf05182\n"
     ]
    }
   ],
   "source": [
    "OS_REGION_NAME='CHI@UC'\n",
    "\n",
    "START_DATE=`date -d \"+2 min\" +'%F %H:%M'`\n",
    "END_DATE=`date -d \"+5 day\" +'%F %H:%M'`\n",
    "\n",
    "PUBLIC_NETWORK_ID=$(openstack network show public -c id -f value)\n",
    "\n",
    "echo Creating network ${EXOGENI_STITCH_NAME}\n",
    "blazar lease-create \\\n",
    "   --physical-reservation min=1,max=3,resource_properties='[\"=\", \"$node_type\", \"compute_haswell\"]' \\\n",
    "   --reservation resource_type=virtual:floatingip,network_id=${PUBLIC_NETWORK_ID},amount=1 \\\n",
    "   --reservation resource_type=\"network\",network_name=\"${UC_NETWORK_NAME}\",resource_properties='[\"==\",\"$physical_network\",\"exogeni\"]' \\\n",
    "   --start-date \"${START_DATE}\" \\\n",
    "   --end-date \"${END_DATE}\" \\\n",
    "   ${UC_RESERVATION_NAME}\n",
    "\n",
    "UC_RESERVATION=`blazar lease-show --format value -c id ${UC_RESERVATION_NAME}`\n",
    "echo UC_RESERVATION $UC_RESERVATION\n",
    "\n",
    "UC_NODE_RESERVATION=`blazar lease-show -json --format value -c reservations ${UC_RESERVATION_NAME} | jq -r 'select(.resource_type | contains(\"physical:host\")) | .id'`\n",
    "echo UC_NODE_RESERVATION $UC_NODE_RESERVATION"
   ]
  },
  {
   "cell_type": "code",
   "execution_count": 15,
   "metadata": {},
   "outputs": [
    {
     "name": "stdout",
     "output_type": "stream",
     "text": [
      "UC DirectStitch VLAN: 3291\n",
      "UC_FLOATING_IP 192.5.87.184\n"
     ]
    }
   ],
   "source": [
    "OS_REGION_NAME='CHI@UC'\n",
    "\n",
    "UC_DIRECTSTITCH_VLAN=`openstack network show -c provider:segmentation_id -f value ${UC_NETWORK_NAME}`\n",
    "echo UC DirectStitch VLAN: $UC_DIRECTSTITCH_VLAN \n",
    "\n",
    "UC_FLOATING_IP=`lease_list_floating_ips $UC_RESERVATION`\n",
    "echo UC_FLOATING_IP $UC_FLOATING_IP "
   ]
  },
  {
   "cell_type": "code",
   "execution_count": 16,
   "metadata": {},
   "outputs": [
    {
     "name": "stdout",
     "output_type": "stream",
     "text": [
      "Creating Subnet\n",
      "+----------------------+-------------------------------------------------------+\n",
      "| Field                | Value                                                 |\n",
      "+----------------------+-------------------------------------------------------+\n",
      "| allocation_pools     | 192.168.100.10-192.168.100.19                         |\n",
      "| cidr                 | 192.168.100.0/24                                      |\n",
      "| created_at           | 2020-06-23T18:29:02Z                                  |\n",
      "| description          |                                                       |\n",
      "| dns_nameservers      |                                                       |\n",
      "| dns_publish_fixed_ip | None                                                  |\n",
      "| enable_dhcp          | True                                                  |\n",
      "| gateway_ip           | 192.168.100.1                                         |\n",
      "| host_routes          |                                                       |\n",
      "| id                   | 8c50f989-27e4-490a-b603-41a3cecfe392                  |\n",
      "| ip_version           | 4                                                     |\n",
      "| ipv6_address_mode    | None                                                  |\n",
      "| ipv6_ra_mode         | None                                                  |\n",
      "| location             | cloud='', project.domain_id='default',                |\n",
      "|                      | project.domain_name='Default',                        |\n",
      "|                      | project.id='4527d3d04ada41f5957f87bc334751a3',        |\n",
      "|                      | project.name='MC4N', region_name='CHI@UC', zone=      |\n",
      "| name                 | bmohd1-netperf-Jun23-Subnet-UC                        |\n",
      "| network_id           | 28d7ddb1-19de-4b70-8a9e-85f2609e4b20                  |\n",
      "| prefix_length        | None                                                  |\n",
      "| project_id           | 4527d3d04ada41f5957f87bc334751a3                      |\n",
      "| revision_number      | 0                                                     |\n",
      "| segment_id           | None                                                  |\n",
      "| service_types        |                                                       |\n",
      "| subnetpool_id        | None                                                  |\n",
      "| tags                 |                                                       |\n",
      "| updated_at           | 2020-06-23T18:29:02Z                                  |\n",
      "+----------------------+-------------------------------------------------------+\n",
      "Creating Router\n",
      "+-------------------------+----------------------------------------------------+\n",
      "| Field                   | Value                                              |\n",
      "+-------------------------+----------------------------------------------------+\n",
      "| admin_state_up          | UP                                                 |\n",
      "| availability_zone_hints |                                                    |\n",
      "| availability_zones      |                                                    |\n",
      "| created_at              | 2020-06-23T18:29:04Z                               |\n",
      "| description             |                                                    |\n",
      "| external_gateway_info   | null                                               |\n",
      "| flavor_id               | None                                               |\n",
      "| id                      | 3c623b86-7fc3-457f-bad3-34dc6895d41d               |\n",
      "| location                | cloud='', project.domain_id='default',             |\n",
      "|                         | project.domain_name='Default',                     |\n",
      "|                         | project.id='4527d3d04ada41f5957f87bc334751a3',     |\n",
      "|                         | project.name='MC4N', region_name='CHI@UC', zone=   |\n",
      "| name                    | bmohd1-netperf-Jun23-Router-UC                     |\n",
      "| project_id              | 4527d3d04ada41f5957f87bc334751a3                   |\n",
      "| revision_number         | 1                                                  |\n",
      "| routes                  |                                                    |\n",
      "| status                  | ACTIVE                                             |\n",
      "| tags                    |                                                    |\n",
      "| updated_at              | 2020-06-23T18:29:04Z                               |\n",
      "+-------------------------+----------------------------------------------------+\n",
      "Linking router to subnet\n",
      "Linking router to external gateway\n",
      "Network bmohd1-netperf-Jun23-Network-UC is ready for nodes!\n"
     ]
    }
   ],
   "source": [
    "OS_REGION_NAME='CHI@UC'\n",
    "echo Creating Subnet\n",
    "openstack subnet create --max-width 80 \\\n",
    "                        --subnet-range ${NETWORK_SUBNET} \\\n",
    "                        --allocation-pool start=${UC_ALLOCATION_START},end=${UC_ALLOCATION_END} \\\n",
    "                        --dhcp \\\n",
    "                        --network ${UC_NETWORK_NAME} \\\n",
    "                        ${UC_SUBNET_NAME}\n",
    "                        \n",
    "echo Creating Router\n",
    "openstack router create --max-width 80 ${UC_ROUTER_NAME}\n",
    "\n",
    "echo Linking router to subnet\n",
    "openstack router add subnet ${UC_ROUTER_NAME} ${UC_SUBNET_NAME}\n",
    "\n",
    "echo Linking router to external gateway\n",
    "openstack router set --external-gateway public ${UC_ROUTER_NAME}\n",
    "\n",
    "echo Network ${UC_NETWORK_NAME} is ready for nodes!"
   ]
  },
  {
   "cell_type": "code",
   "execution_count": 17,
   "metadata": {},
   "outputs": [
    {
     "name": "stdout",
     "output_type": "stream",
     "text": [
      "Creating servers... This will take several minutes!\n",
      "+-------------------------------------+----------------------------------------+\n",
      "| Field                               | Value                                  |\n",
      "+-------------------------------------+----------------------------------------+\n",
      "| OS-DCF:diskConfig                   | MANUAL                                 |\n",
      "| OS-EXT-AZ:availability_zone         |                                        |\n",
      "| OS-EXT-SRV-ATTR:host                | None                                   |\n",
      "| OS-EXT-SRV-ATTR:hypervisor_hostname | None                                   |\n",
      "| OS-EXT-SRV-ATTR:instance_name       |                                        |\n",
      "| OS-EXT-STS:power_state              | NOSTATE                                |\n",
      "| OS-EXT-STS:task_state               | scheduling                             |\n",
      "| OS-EXT-STS:vm_state                 | building                               |\n",
      "| OS-SRV-USG:launched_at              | None                                   |\n",
      "| OS-SRV-USG:terminated_at            | None                                   |\n",
      "| accessIPv4                          |                                        |\n",
      "| accessIPv6                          |                                        |\n",
      "| addresses                           |                                        |\n",
      "| adminPass                           | B3hLbbC8ijLB                           |\n",
      "| config_drive                        |                                        |\n",
      "| created                             | 2020-06-23T18:29:33Z                   |\n",
      "| flavor                              | baremetal                              |\n",
      "|                                     | (0018ac2a-05ca-4703-82ef-105230f8f1f1) |\n",
      "| hostId                              |                                        |\n",
      "| id                                  | eb3494e6-34e4-4bdb-8949-be901f6662e1   |\n",
      "| image                               | CC-Ubuntu16.04                         |\n",
      "|                                     | (8e57cb54-dd2f-477f-81a2-b1b7c1e7603d) |\n",
      "| key_name                            | uc-key                                 |\n",
      "| name                                | bmohd1-netperf-Jun23-node              |\n",
      "| progress                            | 0                                      |\n",
      "| project_id                          | 4527d3d04ada41f5957f87bc334751a3       |\n",
      "| properties                          |                                        |\n",
      "| security_groups                     | name='c304f501-b4af-42d9-9105-d5c75b68 |\n",
      "|                                     | 6344'                                  |\n",
      "| status                              | BUILD                                  |\n",
      "| updated                             | 2020-06-23T18:29:33Z                   |\n",
      "| user_id                             | e325e79f2bc74500840cf8060bd9c310       |\n",
      "| volumes_attached                    |                                        |\n",
      "+-------------------------------------+----------------------------------------+\n"
     ]
    }
   ],
   "source": [
    "UC_NODE_NAME=${RESOURCE_PREFIX}-node\n",
    "\n",
    "OS_REGION_NAME='CHI@UC'\n",
    "echo Creating servers... This will take several minutes! \n",
    "openstack server create --max-width 80 \\\n",
    "                        --flavor \"baremetal\" \\\n",
    "                        --image \"CC-Ubuntu16.04\" \\\n",
    "                        --key-name \"uc-key\" \\\n",
    "                        --hint reservation=${UC_NODE_RESERVATION} \\\n",
    "                        --security-group default  \\\n",
    "                        --nic net-id=${UC_NETWORK_NAME} \\\n",
    "                        ${UC_NODE_NAME}"
   ]
  },
  {
   "cell_type": "code",
   "execution_count": 18,
   "metadata": {},
   "outputs": [
    {
     "name": "stdout",
     "output_type": "stream",
     "text": [
      "192.5.87.184\n"
     ]
    }
   ],
   "source": [
    "OS_REGION_NAME='CHI@UC'\n",
    "#Attach the floating IP address to the server\n",
    "echo $UC_FLOATING_IP \n",
    "openstack server add floating ip $UC_NODE_NAME $UC_FLOATING_IP "
   ]
  },
  {
   "cell_type": "code",
   "execution_count": null,
   "metadata": {},
   "outputs": [],
   "source": [
    "pwd"
   ]
  },
  {
   "cell_type": "markdown",
   "metadata": {},
   "source": [
    "### Creating a Netperf Network on the TACC Chameleon Site\n",
    " We simply repeat the above steps but targetting TACC site"
   ]
  },
  {
   "cell_type": "code",
   "execution_count": 19,
   "metadata": {},
   "outputs": [],
   "source": [
    "# Set up user's project (user's can be multiple ones, so there is no default currently)\n",
    "export OS_PROJECT_NAME='MC4N'\n",
    "\n",
    "# Set chameleon keypair name and path to the private ssh key\n",
    "export SSH_KEY_NAME=${USERNAME}-tacc-key\n",
    "export SSH_PRIVATE_KEY=${HOME}/work/bashir-chameleon-jupyter\n",
    "\n",
    "export NETWORK_SUBNET=\"192.168.100.0/24\"\n",
    "export UC_ALLOCATION_START=\"192.168.100.10\"\n",
    "export UC_ALLOCATION_END=\"192.168.100.19\"\n",
    "export TACC_ALLOCATION_START=\"192.168.100.20\"\n",
    "export TACC_ALLOCATION_END=\"192.168.100.29\"\n",
    "\n",
    "export RESOURCE_PREFIX=\"$USER-netperf-$(date +%b%d)\"\n",
    "\n",
    "export GENI_PEM_FILE=\"~/work/geni-bmohamme.pem\""
   ]
  },
  {
   "cell_type": "code",
   "execution_count": 20,
   "metadata": {},
   "outputs": [],
   "source": [
    "OS_REGION_NAME='CHI@TACC'\n",
    "\n",
    "TACC_RESERVATION_NAME=${RESOURCE_PREFIX}\"-TACC\"\n",
    "\n",
    "# Set the names for the network, subnet, router, and switch. \n",
    "# See above about using identifiable names.  \n",
    "TACC_NETWORK_NAME=${RESOURCE_PREFIX}\"-Network-TACC\"\n",
    "TACC_SUBNET_NAME=${RESOURCE_PREFIX}\"-Subnet-TACC\"\n",
    "TACC_ROUTER_NAME=${RESOURCE_PREFIX}\"-Router-TACC\""
   ]
  },
  {
   "cell_type": "code",
   "execution_count": 22,
   "metadata": {},
   "outputs": [
    {
     "name": "stdout",
     "output_type": "stream",
     "text": [
      "Creating network\n",
      "Matches: ('min=1,max=3', 'resource_properties', '[\"=\", \"$node_type\", \"compute_haswell\"]')\n",
      "Matches: ('min=1', 'max', '3')\n",
      "Matches: (None, 'min', '1')\n",
      "Matches: ('resource_type=virtual:floatingip,network_id=6189521e-06a0-4c43-b163-16cc11ce675b', 'amount', '1')\n",
      "Matches: ('resource_type=virtual:floatingip', 'network_id', '6189521e-06a0-4c43-b163-16cc11ce675b')\n",
      "Matches: (None, 'resource_type', 'virtual:floatingip')\n",
      "Matches: ('resource_type=network,network_name=bmohd1-netperf-Jun23-Network-TACC', 'resource_properties', '[\"==\",\"$physical_network\",\"physnet\"]')\n",
      "Matches: ('resource_type=network', 'network_name', 'bmohd1-netperf-Jun23-Network-TACC')\n",
      "Matches: (None, 'resource_type', 'network')\n",
      "ERROR: Not enough floating IPs available\n",
      "Unable to find resource with name 'bmohd1-netperf-Jun23-TACC'\n",
      "TACC_RESERVATION\n",
      "usage: blazar lease-show [-h] [-f {json,shell,table,value,yaml}] [-c COLUMN]\n",
      "                         [--noindent] [--prefix PREFIX]\n",
      "                         [--max-width <integer>] [--fit-width] [--print-empty]\n",
      "                         LEASE\n",
      "blazar lease-show: error: the following arguments are required: LEASE\n",
      "TACC_NODE_RESERVATION\n"
     ]
    }
   ],
   "source": [
    "OS_REGION_NAME='CHI@TACC'\n",
    "\n",
    "START_DATE=`date -d \"+2 min\" +'%F %H:%M'`\n",
    "END_DATE=`date -d \"+5 day\" +'%F %H:%M'`\n",
    "\n",
    "PUBLIC_NETWORK_ID=$(openstack network show public -c id -f value)\n",
    "\n",
    "echo Creating network ${EXOGENI_STITCH_NAME}\n",
    "blazar lease-create \\\n",
    "   --physical-reservation min=1,max=3,resource_properties='[\"=\", \"$node_type\", \"compute_haswell\"]' \\\n",
    "   --reservation resource_type=virtual:floatingip,network_id=${PUBLIC_NETWORK_ID},amount=1 \\\n",
    "   --reservation resource_type=\"network\",network_name=\"${TACC_NETWORK_NAME}\",resource_properties='[\"==\",\"$physical_network\",\"physnet\"]' \\\n",
    "   --start-date \"${START_DATE}\" \\\n",
    "   --end-date \"${END_DATE}\" \\\n",
    "   ${TACC_RESERVATION_NAME}\n",
    "\n",
    "TACC_RESERVATION=`blazar lease-show --format value -c id ${TACC_RESERVATION_NAME}`\n",
    "echo TACC_RESERVATION $TACC_RESERVATION\n",
    "\n",
    "TACC_NODE_RESERVATION=`blazar lease-show -json --format value -c reservations ${TACC_RESERVATION} | jq -r 'select(.resource_type | contains(\"physical:host\")) | .id'`\n",
    "echo TACC_NODE_RESERVATION $TACC_NODE_RESERVATION\n",
    "   \n",
    "   \n",
    "   "
   ]
  },
  {
   "cell_type": "code",
   "execution_count": null,
   "metadata": {},
   "outputs": [],
   "source": [
    "OS_REGION_NAME='CHI@TACC'\n",
    "TACC_DIRECTSTITCH_VLAN=`openstack network show -c provider:segmentation_id -f value ${TACC_NETWORK_NAME}`\n",
    "echo TACC DirectStitch VLAN: $TACC_DIRECTSTITCH_VLAN \n",
    "\n",
    "TACC_FLOATING_IP=`lease_list_floating_ips $TACC_RESERVATION`\n",
    "echo TACC_FLOATING_IP $TACC_FLOATING_IP \n"
   ]
  },
  {
   "cell_type": "code",
   "execution_count": null,
   "metadata": {},
   "outputs": [],
   "source": [
    "OS_REGION_NAME='CHI@TACC'\n",
    "echo Creating Subnet\n",
    "openstack subnet create --max-width 80 \\\n",
    "                        --subnet-range ${NETWORK_SUBNET} \\\n",
    "                        --allocation-pool start=${TACC_ALLOCATION_START},end=${TACC_ALLOCATION_END} \\\n",
    "                        --dhcp \\\n",
    "                        --network ${TACC_NETWORK_NAME} \\\n",
    "                        ${TACC_SUBNET_NAME}\n",
    "                        \n",
    "echo Creating Router\n",
    "openstack router create --max-width 80 ${TACC_ROUTER_NAME}\n",
    "\n",
    "echo Linking router to subnet\n",
    "openstack router add subnet ${TACC_ROUTER_NAME} ${TACC_SUBNET_NAME}\n",
    "\n",
    "echo Linking router to external gateway\n",
    "openstack router set --external-gateway public ${TACC_ROUTER_NAME}\n",
    "\n",
    "echo Network ${TACC_NETWORK_NAME} is ready for nodes!"
   ]
  },
  {
   "cell_type": "code",
   "execution_count": null,
   "metadata": {},
   "outputs": [],
   "source": [
    "echo TACC_RESERVATION $TACC_RESERVATION\n",
    "\n",
    "TACC_NODE_NAME=${RESOURCE_PREFIX}-node\n",
    "\n",
    "OS_REGION_NAME='CHI@TACC'\n",
    "echo Creating servers... This will take several minutes! \n",
    "openstack server create --max-width 80 \\\n",
    "                        --flavor \"baremetal\" \\\n",
    "                        --image \"CC-Ubuntu16.04\"\\\n",
    "                        --key-name \"tacc-key\" \\\n",
    "                        --hint reservation=${TACC_NODE_RESERVATION} \\\n",
    "                        --security-group default  \\\n",
    "                        --nic net-id=${TACC_NETWORK_NAME} \\\n",
    "                        ${TACC_NODE_NAME}\n"
   ]
  },
  {
   "cell_type": "code",
   "execution_count": null,
   "metadata": {},
   "outputs": [],
   "source": [
    "OS_REGION_NAME='CHI@TACC'\n",
    "\n",
    "#Attach the floating IP address to the server\n",
    "echo $TACC_FLOATING_IP \n",
    "openstack server add floating ip $TACC_NODE_NAME $TACC_FLOATING_IP "
   ]
  },
  {
   "cell_type": "code",
   "execution_count": null,
   "metadata": {},
   "outputs": [],
   "source": [
    "# Set up user's project (user's can be multiple ones, so there is no default currently)\n",
    "export OS_PROJECT_NAME='MC4N'\n",
    "\n",
    "# Set chameleon keypair name and path to the private ssh key\n",
    "export SSH_KEY_NAME=${USERNAME}-tacc-key\n",
    "export SSH_PRIVATE_KEY=${HOME}/work/bashir-chameleon-jupyter\n",
    "\n",
    "export NETWORK_SUBNET=\"192.168.100.0/24\"\n",
    "export UC_ALLOCATION_START=\"192.168.100.10\"\n",
    "export UC_ALLOCATION_END=\"192.168.100.19\"\n",
    "export TACC_ALLOCATION_START=\"192.168.100.20\"\n",
    "export TACC_ALLOCATION_END=\"192.168.100.29\"\n",
    "\n",
    "export RESOURCE_PREFIX=\"$USER-deeproute-$(date +%b%d)\"\n",
    "\n",
    "export GENI_PEM_FILE=\"~/work/geni-bmohamme.pem\""
   ]
  },
  {
   "cell_type": "code",
   "execution_count": null,
   "metadata": {},
   "outputs": [],
   "source": [
    "xoStitch create -sp1 uc -vlan1 3293 -sp2 tacc -vlan2 3504 -c geni-bmohamme.pem"
   ]
  },
  {
   "cell_type": "code",
   "execution_count": null,
   "metadata": {},
   "outputs": [],
   "source": [
    "pwd"
   ]
  },
  {
   "cell_type": "markdown",
   "metadata": {},
   "source": [
    "### Use ExoGENI to Connect Ports using DirectStiching"
   ]
  },
  {
   "cell_type": "code",
   "execution_count": null,
   "metadata": {},
   "outputs": [],
   "source": [
    "echo UC DirectStitch VLAN:   $UC_DIRECTSTITCH_VLAN\n",
    "echo TACC DirectStitch VLAN: $TACC_DIRECTSTITCH_VLAN\n",
    "xoStitch create -sp1 uc -vlan1 $UC_DIRECTSTITCH_VLAN -sp2 tacc -vlan2 $TACC_DIRECTSTITCH_VLAN -c $GENI_PEM_FILE"
   ]
  },
  {
   "cell_type": "code",
   "execution_count": null,
   "metadata": {},
   "outputs": [],
   "source": [
    "# #Get the status of the ExoGENI circuit\n",
    "# export GENI_PEM_FILE=geni-bmohamme.pem\n",
    "# TACC_DIRECTSTITCH_VLAN=3508\n",
    "# UC_DIRECTSTITCH_VLAN=3292\n",
    "# xoStitch status -sp1 uc -vlan1 $UC_DIRECTSTITCH_VLAN -sp2 tacc -vlan2 $TACC_DIRECTSTITCH_VLAN -c $GENI_PEM_FILE\n"
   ]
  },
  {
   "cell_type": "code",
   "execution_count": null,
   "metadata": {},
   "outputs": [],
   "source": []
  }
 ],
 "metadata": {
  "kernelspec": {
   "display_name": "Bash",
   "language": "bash",
   "name": "bash"
  },
  "language_info": {
   "codemirror_mode": "shell",
   "file_extension": ".sh",
   "mimetype": "text/x-sh",
   "name": "bash"
  }
 },
 "nbformat": 4,
 "nbformat_minor": 4
}
